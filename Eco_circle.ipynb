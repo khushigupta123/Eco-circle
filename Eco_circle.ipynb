{
 "cells": [
  {
   "cell_type": "code",
   "execution_count": 74,
   "id": "a75cfce4",
   "metadata": {},
   "outputs": [],
   "source": [
    "import pandas as pd\n",
    "\n",
    "sustain = pd.read_csv(\"EC.csv\")"
   ]
  },
  {
   "cell_type": "code",
   "execution_count": 75,
   "id": "7fe98230",
   "metadata": {},
   "outputs": [],
   "source": [
    "import re\n",
    "\n",
    "def clean_product(prod):\n",
    "    return re.sub(\"[^a-zA-Z0-9 ]\", \"\", prod)"
   ]
  },
  {
   "cell_type": "code",
   "execution_count": 76,
   "id": "7db9aebf",
   "metadata": {},
   "outputs": [],
   "source": [
    "sustain[\"clean_Product\"] = sustain[\"Products\"].apply(clean_product)"
   ]
  },
  {
   "cell_type": "code",
   "execution_count": 77,
   "id": "43e0c29a",
   "metadata": {},
   "outputs": [],
   "source": [
    "from sklearn.feature_extraction.text import TfidfVectorizer\n",
    "\n",
    "vectorizer = TfidfVectorizer(ngram_range=(1,2))\n",
    "\n",
    "tfidf = vectorizer.fit_transform(sustain[\"clean_Product\"])\n"
   ]
  },
  {
   "cell_type": "code",
   "execution_count": 78,
   "id": "d32f0841",
   "metadata": {},
   "outputs": [],
   "source": [
    "from sklearn.metrics.pairwise import cosine_similarity\n",
    "import numpy as np\n",
    "\n",
    "def search(product):\n",
    "    product = clean_product(product)\n",
    "    query_vect = vectorizer.transform([product])\n",
    "    similarity = cosine_similarity(query_vect, tfidf).flatten()\n",
    "    indices = np.argpartition(similarity, -5)[-5:]\n",
    "    results = sustain.iloc[indices] \n",
    "    return results"
   ]
  },
  {
   "cell_type": "code",
   "execution_count": 81,
   "id": "a5448630",
   "metadata": {},
   "outputs": [
    {
     "data": {
      "application/vnd.jupyter.widget-view+json": {
       "model_id": "682d4327bcb540c7bbdabff7800639e2",
       "version_major": 2,
       "version_minor": 0
      },
      "text/plain": [
       "Text(value='Enter', description='Product:')"
      ]
     },
     "metadata": {},
     "output_type": "display_data"
    },
    {
     "data": {
      "application/vnd.jupyter.widget-view+json": {
       "model_id": "85bca4e986d14df49187ffa3ee61ba4e",
       "version_major": 2,
       "version_minor": 0
      },
      "text/plain": [
       "Output()"
      ]
     },
     "metadata": {},
     "output_type": "display_data"
    }
   ],
   "source": [
    "import ipywidgets as widgets\n",
    "from IPython.display import display\n",
    "\n",
    "product_input = widgets.Text(\n",
    "    value = \"Enter\",\n",
    "    description = \"Product:\",\n",
    "    disabled = False\n",
    ")\n",
    "\n",
    "product_list = widgets.Output()\n",
    "\n",
    "def on_type(data):\n",
    "    with product_list:\n",
    "        product_list.clear_output()\n",
    "        product = data[\"new\"]\n",
    "        if len(product) > 2:\n",
    "            display(search(product))\n",
    "\n",
    "product_input.observe(on_type, names='value')\n",
    "\n",
    "display(product_input, product_list)"
   ]
  },
  {
   "cell_type": "code",
   "execution_count": null,
   "id": "276812e0",
   "metadata": {},
   "outputs": [],
   "source": []
  }
 ],
 "metadata": {
  "kernelspec": {
   "display_name": "Python 3 (ipykernel)",
   "language": "python",
   "name": "python3"
  },
  "language_info": {
   "codemirror_mode": {
    "name": "ipython",
    "version": 3
   },
   "file_extension": ".py",
   "mimetype": "text/x-python",
   "name": "python",
   "nbconvert_exporter": "python",
   "pygments_lexer": "ipython3",
   "version": "3.10.10"
  }
 },
 "nbformat": 4,
 "nbformat_minor": 5
}
